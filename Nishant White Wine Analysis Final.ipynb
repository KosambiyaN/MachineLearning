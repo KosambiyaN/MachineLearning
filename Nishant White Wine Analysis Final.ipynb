{
 "cells": [
  {
   "cell_type": "code",
   "execution_count": 19,
   "id": "3f431b61",
   "metadata": {},
   "outputs": [],
   "source": [
    "#Packages initialisation\n",
    "import numpy as np\n",
    "import pandas as pd\n",
    "import matplotlib.pyplot as plt\n",
    "from sklearn.model_selection import train_test_split\n",
    "from sklearn.tree import DecisionTreeClassifier\n",
    "from sklearn.neighbors import KNeighborsClassifier\n",
    "from sklearn.svm import SVC\n",
    "from sklearn.decomposition import PCA\n",
    "from sklearn.preprocessing import MinMaxScaler\n",
    "from sklearn.metrics import mean_absolute_error, r2_score, mean_squared_error, classification_report"
   ]
  },
  {
   "cell_type": "code",
   "execution_count": 4,
   "id": "994af19e",
   "metadata": {},
   "outputs": [],
   "source": [
    "#Wine Dataset load\n",
    "wine_df=pd.read_csv(r\"C:\\\\Nishant\\White_WineQuality_Data.csv\")"
   ]
  },
  {
   "cell_type": "code",
   "execution_count": 6,
   "id": "138f02d1",
   "metadata": {},
   "outputs": [
    {
     "name": "stdout",
     "output_type": "stream",
     "text": [
      "<class 'pandas.core.frame.DataFrame'>\n",
      "RangeIndex: 4898 entries, 0 to 4897\n",
      "Data columns (total 12 columns):\n",
      " #   Column                Non-Null Count  Dtype  \n",
      "---  ------                --------------  -----  \n",
      " 0   fixed acidity         4898 non-null   float64\n",
      " 1   volatile acidity      4898 non-null   float64\n",
      " 2   citric acid           4898 non-null   float64\n",
      " 3   residual sugar        4898 non-null   float64\n",
      " 4   chlorides             4898 non-null   float64\n",
      " 5   free sulfur dioxide   4898 non-null   float64\n",
      " 6   total sulfur dioxide  4898 non-null   float64\n",
      " 7   density               4898 non-null   float64\n",
      " 8   pH                    4898 non-null   float64\n",
      " 9   sulphates             4898 non-null   float64\n",
      " 10  alcohol               4898 non-null   float64\n",
      " 11  quality               4898 non-null   int64  \n",
      "dtypes: float64(11), int64(1)\n",
      "memory usage: 459.3 KB\n"
     ]
    }
   ],
   "source": [
    "#Check column details of the dataset\n",
    "wine_df.info()"
   ]
  },
  {
   "cell_type": "code",
   "execution_count": 5,
   "id": "904012b3",
   "metadata": {},
   "outputs": [
    {
     "data": {
      "text/plain": [
       "fixed acidity           0\n",
       "volatile acidity        0\n",
       "citric acid             0\n",
       "residual sugar          0\n",
       "chlorides               0\n",
       "free sulfur dioxide     0\n",
       "total sulfur dioxide    0\n",
       "density                 0\n",
       "pH                      0\n",
       "sulphates               0\n",
       "alcohol                 0\n",
       "quality                 0\n",
       "dtype: int64"
      ]
     },
     "execution_count": 5,
     "metadata": {},
     "output_type": "execute_result"
    }
   ],
   "source": [
    "#Check whether any of the columns have null values\n",
    "wine_df.isna().sum(axis = 0)"
   ]
  },
  {
   "cell_type": "code",
   "execution_count": 7,
   "id": "7410c1aa",
   "metadata": {},
   "outputs": [],
   "source": [
    "# Dependent variable and independent variables formation\n",
    "indp_vrbl = wine_df.drop(['quality'],axis=1)\n",
    "dep_vrbl = wine_df['quality']"
   ]
  },
  {
   "cell_type": "code",
   "execution_count": 8,
   "id": "e9117954",
   "metadata": {},
   "outputs": [],
   "source": [
    "#Normalizing the independent variables data\n",
    "normalzd= MinMaxScaler((-1,1))\n",
    "indp_vrbl_normlzd=normalzd.fit_transform(indp_vrbl)"
   ]
  },
  {
   "cell_type": "code",
   "execution_count": 9,
   "id": "b5e7a9c1",
   "metadata": {},
   "outputs": [],
   "source": [
    "#Splitting the variables\n",
    "X_trn,X_tst,Y_trn,Y_tst = train_test_split(indp_vrbl_normlzd, dep_vrbl ,test_size=0.20,random_state=10)"
   ]
  },
  {
   "cell_type": "code",
   "execution_count": 11,
   "id": "6723feae",
   "metadata": {},
   "outputs": [
    {
     "name": "stdout",
     "output_type": "stream",
     "text": [
      "KNN Algorithm's classification report equals:\n",
      "               precision    recall  f1-score   support\n",
      "\n",
      "           3       0.00      0.00      0.00         2\n",
      "           4       0.20      0.07      0.10        29\n",
      "           5       0.54      0.63      0.59       280\n",
      "           6       0.58      0.62      0.60       450\n",
      "           7       0.51      0.43      0.47       180\n",
      "           8       0.38      0.16      0.22        38\n",
      "           9       0.00      0.00      0.00         1\n",
      "\n",
      "    accuracy                           0.55       980\n",
      "   macro avg       0.32      0.27      0.28       980\n",
      "weighted avg       0.54      0.55      0.54       980\n",
      "\n",
      "KNN Algorithm's mean absolute error equals: 0.5040816326530613\n",
      "KNN Algorithm's root mean squared error equals: 0.7915368672682896\n",
      "KNN Algorithm's r-squared value equals: 0.17873545569317917\n"
     ]
    }
   ],
   "source": [
    "#K- Nearest Neighbour algorithm\n",
    "import warnings\n",
    "with warnings.catch_warnings(record=True):\n",
    "    knn_algrthm = KNeighborsClassifier(n_neighbors = 5, metric = 'euclidean', p = 2)\n",
    "    knn_algrthm.fit(X_trn, Y_trn)\n",
    "    Y_predct1 = knn_algrthm.predict(X_tst)\n",
    "    print(\"KNN Algorithm's classification report equals:\\n\",classification_report(Y_tst, Y_predct1))\n",
    "    print(\"KNN Algorithm's mean absolute error equals:\",mean_absolute_error(Y_tst, Y_predct1))\n",
    "    print(\"KNN Algorithm's root mean squared error equals:\",np.sqrt(mean_squared_error(Y_tst, Y_predct1)))\n",
    "    print(\"KNN Algorithm's r-squared value equals:\",r2_score(Y_tst, Y_predct1))"
   ]
  },
  {
   "cell_type": "code",
   "execution_count": 15,
   "id": "a0ce7fa2",
   "metadata": {},
   "outputs": [
    {
     "name": "stdout",
     "output_type": "stream",
     "text": [
      "Support Vector Machine Algorithm's classification report equals:\n",
      "               precision    recall  f1-score   support\n",
      "\n",
      "           3       0.00      0.00      0.00         2\n",
      "           4       0.00      0.00      0.00        29\n",
      "           5       0.53      0.51      0.52       280\n",
      "           6       0.51      0.80      0.62       450\n",
      "           7       0.00      0.00      0.00       180\n",
      "           8       0.00      0.00      0.00        38\n",
      "           9       0.00      0.00      0.00         1\n",
      "\n",
      "    accuracy                           0.51       980\n",
      "   macro avg       0.15      0.19      0.16       980\n",
      "weighted avg       0.38      0.51      0.43       980\n",
      "\n",
      "Support Vector Machine Algorithm's mean absolute error equals: 0.5540816326530612\n",
      "Support Vector Machine Algorithm's root mean squared error equals: 0.8372696149767201\n",
      "Support Vector Machine Algorithm's r-squared value equals: 0.08109325417135838\n"
     ]
    }
   ],
   "source": [
    "#Support Vector Machine algorithm\n",
    "import warnings\n",
    "with warnings.catch_warnings(record=True):\n",
    "    svm_algrthm = SVC(kernel='linear', C=5, gamma=0.1)\n",
    "    svm_algrthm.fit(X_trn, Y_trn)\n",
    "    Y_predct2 = svm_algrthm.predict(X_tst)\n",
    "    print(\"Support Vector Machine Algorithm's classification report equals:\\n\",classification_report(Y_tst, Y_predct2))\n",
    "    print(\"Support Vector Machine Algorithm's mean absolute error equals:\",mean_absolute_error(Y_tst, Y_predct2))\n",
    "    print(\"Support Vector Machine Algorithm's root mean squared error equals:\",np.sqrt(mean_squared_error(Y_tst, Y_predct2)))\n",
    "    print(\"Support Vector Machine Algorithm's r-squared value equals:\",r2_score(Y_tst, Y_predct2))"
   ]
  },
  {
   "cell_type": "code",
   "execution_count": 17,
   "id": "512748d5",
   "metadata": {},
   "outputs": [
    {
     "name": "stdout",
     "output_type": "stream",
     "text": [
      "Decision Tree Algorithm's classification report equals:\n",
      "               precision    recall  f1-score   support\n",
      "\n",
      "           3       0.00      0.00      0.00         2\n",
      "           4       0.31      0.38      0.34        29\n",
      "           5       0.61      0.64      0.62       280\n",
      "           6       0.66      0.63      0.65       450\n",
      "           7       0.57      0.54      0.55       180\n",
      "           8       0.43      0.53      0.47        38\n",
      "           9       0.00      0.00      0.00         1\n",
      "\n",
      "    accuracy                           0.60       980\n",
      "   macro avg       0.37      0.39      0.38       980\n",
      "weighted avg       0.61      0.60      0.61       980\n",
      "\n",
      "Decision Tree Algorithm's mean absolute error equals: 0.5051020408163265\n",
      "Decision Tree Algorithm's root mean squared error equals: 0.8730663766055727\n",
      "Decision Tree Algorithm's r-squared value equals: 0.0008393899068481758\n"
     ]
    }
   ],
   "source": [
    "#Decision Tree algorithm\n",
    "import warnings\n",
    "with warnings.catch_warnings(record=True):\n",
    "    dtree_algrthm = DecisionTreeClassifier(random_state=5)\n",
    "    dtree_algrthm.fit(X_trn, Y_trn)\n",
    "    Y_predct3 = dtree_algrthm.predict(X_tst)\n",
    "    print(\"Decision Tree Algorithm's classification report equals:\\n\",classification_report(Y_tst, Y_predct3))\n",
    "    print(\"Decision Tree Algorithm's mean absolute error equals:\",mean_absolute_error(Y_tst, Y_predct3))\n",
    "    print(\"Decision Tree Algorithm's root mean squared error equals:\",np.sqrt(mean_squared_error(Y_tst, Y_predct3)))\n",
    "    print(\"Decision Tree Algorithm's r-squared value equals:\",r2_score(Y_tst, Y_predct3))"
   ]
  },
  {
   "cell_type": "code",
   "execution_count": 21,
   "id": "089c5ad6",
   "metadata": {},
   "outputs": [],
   "source": [
    "#Principal Component Analysis algorithm\n",
    "prncpal_com_analysis = PCA()\n",
    "dta = indp_vrbl.values\n",
    "prncpal_com_analysis.fit(dta)\n",
    "wine_prncpal_com_analysis = prncpal_com_analysis.transform(dta)"
   ]
  },
  {
   "cell_type": "code",
   "execution_count": 23,
   "id": "45bdc666",
   "metadata": {},
   "outputs": [
    {
     "data": {
      "image/png": "[encoded data removed]",
      "text/plain": [
       "<Figure size 432x288 with 1 Axes>"
      ]
     },
     "metadata": {
      "needs_background": "light"
     },
     "output_type": "display_data"
    }
   ],
   "source": [
    "#Scree plot for obtaining cluster count\n",
    "import warnings\n",
    "with warnings.catch_warnings(record=True):\n",
    "    crd = plt.gca()\n",
    "    var_exp = prncpal_com_analysis.explained_variance_ratio_\n",
    "    crd.plot(var_exp, marker='x')\n",
    "    crd.set_xlabel('Prin Comp')\n",
    "    crd.set_ylim(0,1.)\n",
    "    crd.set_xticklabels([\"PC{}\".format(i) for i in range(8)])"
   ]
  },
  {
   "cell_type": "code",
   "execution_count": 24,
   "id": "1e7aa241",
   "metadata": {},
   "outputs": [
    {
     "data": {
      "text/plain": [
       "Text(0, 0.5, 'Prin Comp 2')"
      ]
     },
     "execution_count": 24,
     "metadata": {},
     "output_type": "execute_result"
    },
    {
     "data": {
      "image/png": "[encoded data removed]",
      "text/plain": [
       "<Figure size 432x288 with 1 Axes>"
      ]
     },
     "metadata": {
      "needs_background": "light"
     },
     "output_type": "display_data"
    }
   ],
   "source": [
    "#PC1 vs PC2 visualisation\n",
    "crd = plt.gca()\n",
    "crd.scatter(wine_prncpal_com_analysis[:,0], wine_prncpal_com_analysis[:,1])\n",
    "crd.set_xlabel('Prin Comp 1')\n",
    "crd.set_ylabel('Prin Comp 2')"
   ]
  },
  {
   "cell_type": "code",
   "execution_count": 25,
   "id": "86dc7a5a",
   "metadata": {},
   "outputs": [
    {
     "name": "stdout",
     "output_type": "stream",
     "text": [
      "Variance of dataset explained by Principal Components equals-> [9.09657344e-01 7.93338631e-02 1.01542742e-02 5.06004450e-04\n",
      " 3.23409395e-04 8.72769740e-06 6.72986618e-06 5.39060918e-06\n",
      " 4.07002123e-06 1.86525322e-07 1.49217279e-10]\n"
     ]
    }
   ],
   "source": [
    "#Variance of dataset explained by Principal Components\n",
    "print(\"Variance of dataset explained by Principal Components equals->\",var_exp)"
   ]
  },
  {
   "cell_type": "code",
   "execution_count": null,
   "id": "275d657e",
   "metadata": {},
   "outputs": [],
   "source": []
  }
 ],
 "metadata": {
  "kernelspec": {
   "display_name": "Python 3 (ipykernel)",
   "language": "python",
   "name": "python3"
  },
  "language_info": {
   "codemirror_mode": {
    "name": "ipython",
    "version": 3
   },
   "file_extension": ".py",
   "mimetype": "text/x-python",
   "name": "python",
   "nbconvert_exporter": "python",
   "pygments_lexer": "ipython3",
   "version": "3.9.13"
  }
 },
 "nbformat": 4,
 "nbformat_minor": 5
}
